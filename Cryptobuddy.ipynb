{
  "nbformat": 4,
  "nbformat_minor": 0,
  "metadata": {
    "colab": {
      "provenance": [],
      "authorship_tag": "ABX9TyNf9gUlQ4mp8uytMm1FGlI3",
      "include_colab_link": true
    },
    "kernelspec": {
      "name": "python3",
      "display_name": "Python 3"
    },
    "language_info": {
      "name": "python"
    }
  },
  "cells": [
    {
      "cell_type": "markdown",
      "metadata": {
        "id": "view-in-github",
        "colab_type": "text"
      },
      "source": [
        "<a href=\"https://colab.research.google.com/github/lolaraheemah/AI-for-SE-wk-1/blob/main/Cryptobuddy.ipynb\" target=\"_parent\"><img src=\"https://colab.research.google.com/assets/colab-badge.svg\" alt=\"Open In Colab\"/></a>"
      ]
    },
    {
      "cell_type": "code",
      "execution_count": 1,
      "metadata": {
        "colab": {
          "base_uri": "https://localhost:8080/"
        },
        "id": "PvbEZhpDUWGT",
        "outputId": "6a23c4cd-920f-4ef4-ecc9-f7c54736e1c7"
      },
      "outputs": [
        {
          "output_type": "stream",
          "name": "stdout",
          "text": [
            "👋 Hi! I'm CryptoBuddy — your friendly crypto assistant!\n",
            "⚠️ Disclaimer: I’m not a financial advisor. Always do your own research!\n",
            "\n",
            "You: Hi, tell me what crypto has a high market cap?\n",
            "CryptoBuddy: 💰 High market cap cryptos: Bitcoin, Ethereum.\n",
            "You: bye\n",
            "CryptoBuddy: 👋 Goodbye! Stay smart with your crypto choices!\n"
          ]
        }
      ],
      "source": [
        "# ==============================\n",
        "# 👋 CryptoBuddy: Rule-Based Chatbot\n",
        "# Beginner-friendly Python Script\n",
        "# ==============================\n",
        "\n",
        "# 1. Predefined Crypto Dataset\n",
        "crypto_db = {\n",
        "    \"Bitcoin\": {\n",
        "        \"price_trend\": \"rising\",\n",
        "        \"market_cap\": \"high\",\n",
        "        \"energy_use\": \"high\",\n",
        "        \"sustainability_score\": 3\n",
        "    },\n",
        "    \"Ethereum\": {\n",
        "        \"price_trend\": \"stable\",\n",
        "        \"market_cap\": \"high\",\n",
        "        \"energy_use\": \"medium\",\n",
        "        \"sustainability_score\": 6\n",
        "    },\n",
        "    \"Cardano\": {\n",
        "        \"price_trend\": \"rising\",\n",
        "        \"market_cap\": \"medium\",\n",
        "        \"energy_use\": \"low\",\n",
        "        \"sustainability_score\": 8\n",
        "    }\n",
        "}\n",
        "\n",
        "# 2. Chatbot Logic Function\n",
        "def crypto_chatbot(user_query):\n",
        "    user_query = user_query.lower()  # simplify matching\n",
        "\n",
        "    # Rule 1: Sustainability\n",
        "    if \"sustainable\" in user_query or \"eco\" in user_query:\n",
        "        recommend = max(crypto_db, key=lambda x: crypto_db[x][\"sustainability_score\"])\n",
        "        return f\"🌱 Invest in {recommend}! It’s eco-friendly with a sustainability score of {crypto_db[recommend]['sustainability_score']}/10.\"\n",
        "\n",
        "    # Rule 2: Trending (profitability)\n",
        "    elif \"trending\" in user_query or \"rising\" in user_query:\n",
        "        trending = [c for c,v in crypto_db.items() if v[\"price_trend\"] == \"rising\"]\n",
        "        return f\"📈 Cryptos trending up: {', '.join(trending)}.\"\n",
        "\n",
        "    # Rule 3: Long-term growth\n",
        "    elif \"long-term\" in user_query or \"growth\" in user_query:\n",
        "        recommend = \"Cardano\"\n",
        "        return f\"🚀 {recommend} is trending up and has a strong sustainability score! Perfect for long-term potential.\"\n",
        "\n",
        "    # Rule 4: Market Cap\n",
        "    elif \"market cap\" in user_query:\n",
        "        high_caps = [c for c,v in crypto_db.items() if v[\"market_cap\"] == \"high\"]\n",
        "        return f\"💰 High market cap cryptos: {', '.join(high_caps)}.\"\n",
        "\n",
        "    # Default response\n",
        "    else:\n",
        "        return \"🤔 I didn’t get that. Try asking:\\n- 'Which crypto is trending up?'\\n- 'What’s the most sustainable coin?'\\n- 'Which crypto should I buy for long-term growth?'\"\n",
        "\n",
        "# 3. Run Interactive Chat\n",
        "print(\"👋 Hi! I'm CryptoBuddy — your friendly crypto assistant!\")\n",
        "print(\"⚠️ Disclaimer: I’m not a financial advisor. Always do your own research!\\n\")\n",
        "\n",
        "while True:\n",
        "    user_input = input(\"You: \")\n",
        "    if user_input.lower() in [\"exit\", \"quit\", \"bye\"]:\n",
        "        print(\"CryptoBuddy: 👋 Goodbye! Stay smart with your crypto choices!\")\n",
        "        break\n",
        "    response = crypto_chatbot(user_input)\n",
        "    print(\"CryptoBuddy:\", response)\n"
      ]
    },
    {
      "cell_type": "code",
      "source": [],
      "metadata": {
        "id": "mfBMd2TDU7F8"
      },
      "execution_count": null,
      "outputs": []
    },
    {
      "cell_type": "code",
      "source": [],
      "metadata": {
        "id": "aJVnxQ_XU7K5"
      },
      "execution_count": null,
      "outputs": []
    },
    {
      "cell_type": "code",
      "source": [],
      "metadata": {
        "id": "Yh5Zbv90U7QB"
      },
      "execution_count": null,
      "outputs": []
    },
    {
      "cell_type": "code",
      "source": [],
      "metadata": {
        "id": "EuXijm79U7W1"
      },
      "execution_count": null,
      "outputs": []
    },
    {
      "cell_type": "code",
      "source": [],
      "metadata": {
        "id": "9UoT73m7U7cU"
      },
      "execution_count": null,
      "outputs": []
    }
  ]
}